{
  "nbformat": 4,
  "nbformat_minor": 0,
  "metadata": {
    "colab": {
      "provenance": [],
      "gpuType": "T4",
      "authorship_tag": "ABX9TyPGCqaSx9mInWU7PjM+52RJ",
      "include_colab_link": true
    },
    "kernelspec": {
      "name": "python3",
      "display_name": "Python 3"
    },
    "language_info": {
      "name": "python"
    },
    "accelerator": "GPU"
  },
  "cells": [
    {
      "cell_type": "markdown",
      "metadata": {
        "id": "view-in-github",
        "colab_type": "text"
      },
      "source": [
        "<a href=\"https://colab.research.google.com/github/fatemenoroozi/color_images/blob/main/color_images.ipynb\" target=\"_parent\"><img src=\"https://colab.research.google.com/assets/colab-badge.svg\" alt=\"Open In Colab\"/></a>"
      ]
    },
    {
      "cell_type": "markdown",
      "source": [
        "\n",
        "Import libraries"
      ],
      "metadata": {
        "id": "IzShle8KE-Rj"
      }
    },
    {
      "cell_type": "code",
      "execution_count": 1,
      "metadata": {
        "id": "deWPcfAgE8Xc"
      },
      "outputs": [],
      "source": [
        "import cv2\n",
        "import matplotlib.pyplot as plt\n",
        "import random\n",
        "import numpy as np\n",
        "import os\n",
        "from PIL import Image\n",
        "import os\n",
        "\n",
        "import tensorflow as tf\n",
        "from tensorflow import keras\n",
        "from tensorflow.keras import layers,models\n",
        "from tensorflow.keras.models import Sequential"
      ]
    },
    {
      "cell_type": "markdown",
      "source": [
        "##Create color images"
      ],
      "metadata": {
        "id": "GF4tQ3cOFGpJ"
      }
    },
    {
      "cell_type": "code",
      "source": [
        "def create_color_images(width, height,color):\n",
        "  image = np.zeros((height, width, 3), np.uint8)\n",
        "  image[:] = color\n",
        "  return image"
      ],
      "metadata": {
        "id": "S2GgHGjrFFZ6"
      },
      "execution_count": 2,
      "outputs": []
    },
    {
      "cell_type": "markdown",
      "source": [
        "Create directory"
      ],
      "metadata": {
        "id": "0M6uE7ShFMS6"
      }
    },
    {
      "cell_type": "code",
      "source": [
        "dataset_folder_name = 'dataset'\n",
        "red_image_folder_name = 'red'\n",
        "green_image_folder_name = 'green'\n",
        "blue_image_folder_name = 'blue'\n",
        "yellow_image_folder_name = 'yellow'\n",
        "black_image_folder_name = 'black'\n",
        "white_image_folder_name = 'white'\n",
        "purple_image_folder_name = 'purple'\n",
        "red_image_folder_path = os.path.join(dataset_folder_name, red_image_folder_name)\n",
        "green_image_folder_path = os.path.join(dataset_folder_name, green_image_folder_name)\n",
        "blue_image_folder_path = os.path.join(dataset_folder_name, blue_image_folder_name)\n",
        "yellow_image_folder_path = os.path.join(dataset_folder_name, yellow_image_folder_name)\n",
        "black_image_folder_path = os.path.join(dataset_folder_name, black_image_folder_name)\n",
        "white_image_folder_path = os.path.join(dataset_folder_name, white_image_folder_name)\n",
        "purple_image_folder_path = os.path.join(dataset_folder_name, purple_image_folder_name)\n",
        "os.makedirs(red_image_folder_path)\n",
        "os.makedirs(green_image_folder_path)\n",
        "os.makedirs(blue_image_folder_path)\n",
        "os.makedirs(yellow_image_folder_path)\n",
        "os.makedirs(black_image_folder_path)\n",
        "os.makedirs(white_image_folder_path)\n",
        "os.makedirs(purple_image_folder_path)"
      ],
      "metadata": {
        "id": "TRoXgcgQFL9h"
      },
      "execution_count": 3,
      "outputs": []
    },
    {
      "cell_type": "code",
      "source": [
        "width = 180\n",
        "height = 180"
      ],
      "metadata": {
        "id": "Yx-Ji0L5HLkc"
      },
      "execution_count": 4,
      "outputs": []
    },
    {
      "cell_type": "markdown",
      "source": [
        "Red images"
      ],
      "metadata": {
        "id": "AYSX85xoFbjB"
      }
    },
    {
      "cell_type": "code",
      "source": [
        "for i in range (1000):\n",
        "  color = (0,0,random.randint(50,255))\n",
        "  image = create_color_images(width, height,color)\n",
        "  file_name = f\"red_{i}.png\"\n",
        "  path = \"dataset/red\"\n",
        "  cv2.imwrite(os.path.join(path , file_name), image)"
      ],
      "metadata": {
        "id": "4ivznRs2FbOP"
      },
      "execution_count": 5,
      "outputs": []
    },
    {
      "cell_type": "markdown",
      "source": [
        "Green images"
      ],
      "metadata": {
        "id": "61fl7bbwHPwG"
      }
    },
    {
      "cell_type": "code",
      "source": [
        "for i in range (1000):\n",
        "  color = (0,random.randint(50,255),0)\n",
        "  image = create_color_images(width, height,color)\n",
        "  file_name = f\"green_{i}.png\"\n",
        "  path = \"dataset/green\"\n",
        "  cv2.imwrite(os.path.join(path , file_name), image)"
      ],
      "metadata": {
        "id": "4182vL5eHPEo"
      },
      "execution_count": 6,
      "outputs": []
    },
    {
      "cell_type": "markdown",
      "source": [
        "Blue images"
      ],
      "metadata": {
        "id": "5FOpR8_RHVcF"
      }
    },
    {
      "cell_type": "code",
      "source": [
        "for i in range (1000):\n",
        "  color = (random.randint(50,255),0,0)\n",
        "  image = create_color_images(width, height,color)\n",
        "  file_name = f\"blue_{i}.png\"\n",
        "  path = \"dataset/blue\"\n",
        "  cv2.imwrite(os.path.join(path , file_name), image)"
      ],
      "metadata": {
        "id": "xFfFtMeAHXYs"
      },
      "execution_count": 7,
      "outputs": []
    },
    {
      "cell_type": "markdown",
      "source": [
        "Purple images"
      ],
      "metadata": {
        "id": "wEDhOCVaHZs5"
      }
    },
    {
      "cell_type": "code",
      "source": [
        "for i in range (1000):\n",
        "  color = (random.randint(100,135),0,random.randint(100,135))\n",
        "  image = create_color_images(width, height,color)\n",
        "  file_name = f\"purple_{i}.png\"\n",
        "  path = \"dataset/purple\"\n",
        "  cv2.imwrite(os.path.join(path , file_name), image)"
      ],
      "metadata": {
        "id": "CUkzTYx3HcP7"
      },
      "execution_count": 8,
      "outputs": []
    },
    {
      "cell_type": "markdown",
      "source": [
        "Yellow images"
      ],
      "metadata": {
        "id": "WsOsohv3Hf_f"
      }
    },
    {
      "cell_type": "code",
      "source": [
        "for i in range (1000):\n",
        "  color = (0,random.randint(230,255),random.randint(230,255))\n",
        "  image = create_color_images(width, height,color)\n",
        "  file_name = f\"yellow_{i}.png\"\n",
        "  path = \"dataset/yellow\"\n",
        "  cv2.imwrite(os.path.join(path , file_name), image)"
      ],
      "metadata": {
        "id": "F3PdyVFwHh--"
      },
      "execution_count": 9,
      "outputs": []
    },
    {
      "cell_type": "markdown",
      "source": [
        "Black images"
      ],
      "metadata": {
        "id": "842waxk9Hkya"
      }
    },
    {
      "cell_type": "code",
      "source": [
        "for i in range (500):\n",
        "  color = (random.randint(0,15),random.randint(0,15),random.randint(0,15))\n",
        "  image = create_color_images(width, height,color)\n",
        "  file_name = f\"black_{i}.png\"\n",
        "  path = \"dataset/black\"\n",
        "  cv2.imwrite(os.path.join(path , file_name), image)"
      ],
      "metadata": {
        "id": "AhSyBe4SHm3Y"
      },
      "execution_count": 10,
      "outputs": []
    },
    {
      "cell_type": "markdown",
      "source": [
        "white image"
      ],
      "metadata": {
        "id": "R4xiMlZXHqpA"
      }
    },
    {
      "cell_type": "code",
      "source": [
        "for i in range (500):\n",
        "  color = (random.randint(250,255),random.randint(250,255),random.randint(250,255))\n",
        "  image = create_color_images(width, height,color)\n",
        "  file_name = f\"white_{i}.png\"\n",
        "  path = \"dataset/white\"\n",
        "  cv2.imwrite(os.path.join(path , file_name), image)"
      ],
      "metadata": {
        "id": "VqegnbiIHuAn"
      },
      "execution_count": 11,
      "outputs": []
    },
    {
      "cell_type": "code",
      "source": [
        "directory = 'dataset'\n",
        "\n",
        "train_ds , val_ds = tf.keras.utils.image_dataset_from_directory(\n",
        "    directory,\n",
        "    color_mode='rgb',\n",
        "    batch_size=32,\n",
        "    image_size=(180, 180),\n",
        "    validation_split=0.3,\n",
        "    seed = 123,\n",
        "    subset=\"both\"\n",
        ")"
      ],
      "metadata": {
        "colab": {
          "base_uri": "https://localhost:8080/"
        },
        "id": "qnpgejHjIWnW",
        "outputId": "5394188a-e9d5-44c9-fdca-e2eabbe8d0aa"
      },
      "execution_count": 13,
      "outputs": [
        {
          "output_type": "stream",
          "name": "stdout",
          "text": [
            "Found 6000 files belonging to 7 classes.\n",
            "Using 4200 files for training.\n",
            "Using 1800 files for validation.\n"
          ]
        }
      ]
    },
    {
      "cell_type": "code",
      "source": [
        "class_names = train_ds.class_names\n",
        "class_names"
      ],
      "metadata": {
        "colab": {
          "base_uri": "https://localhost:8080/"
        },
        "id": "AmGaR2MiJPip",
        "outputId": "19254ca4-0454-4b2b-e1b5-9f775087b111"
      },
      "execution_count": 15,
      "outputs": [
        {
          "output_type": "execute_result",
          "data": {
            "text/plain": [
              "['black', 'blue', 'green', 'purple', 'red', 'white', 'yellow']"
            ]
          },
          "metadata": {},
          "execution_count": 15
        }
      ]
    },
    {
      "cell_type": "markdown",
      "source": [
        "Create the model"
      ],
      "metadata": {
        "id": "MhbTyQL_Iskg"
      }
    },
    {
      "cell_type": "code",
      "source": [
        "model = models.Sequential()\n",
        "model.add(layers.Conv2D(32, (3, 3), activation='relu', input_shape=(180, 180, 3)))\n",
        "model.add(layers.MaxPooling2D((2, 2)))\n",
        "model.add(layers.Conv2D(32, (3, 3), activation='relu'))\n",
        "model.add(layers.MaxPooling2D((2, 2)))\n",
        "model.add(layers.Conv2D(64, (3, 3), activation='relu'))\n",
        "model.add(layers.MaxPooling2D((2, 2)))\n",
        "model.add(layers.Flatten())\n",
        "model.add(layers.Dense(64, activation='relu'))\n",
        "model.add(layers.Dense(7))"
      ],
      "metadata": {
        "id": "KDqzyKvsIbrJ"
      },
      "execution_count": 16,
      "outputs": []
    },
    {
      "cell_type": "code",
      "source": [
        "model.compile(\n",
        "  optimizer='adam',\n",
        "  loss=tf.keras.losses.SparseCategoricalCrossentropy(from_logits=True),\n",
        "  metrics=['accuracy'])"
      ],
      "metadata": {
        "id": "eoarxSfWI30I"
      },
      "execution_count": 17,
      "outputs": []
    },
    {
      "cell_type": "code",
      "source": [
        "epochs= 5\n",
        "history = model.fit(\n",
        "  train_ds,\n",
        "  validation_data=val_ds,\n",
        "  epochs=epochs\n",
        ")"
      ],
      "metadata": {
        "colab": {
          "base_uri": "https://localhost:8080/"
        },
        "id": "DUAmOis4IvXV",
        "outputId": "6999f41a-f9e0-4e94-8ee2-ea72b9599ec7"
      },
      "execution_count": 18,
      "outputs": [
        {
          "output_type": "stream",
          "name": "stdout",
          "text": [
            "Epoch 1/5\n",
            "132/132 [==============================] - 19s 47ms/step - loss: 3.1931 - accuracy: 0.8552 - val_loss: 37.7033 - val_accuracy: 0.7350\n",
            "Epoch 2/5\n",
            "132/132 [==============================] - 5s 37ms/step - loss: 1.6035 - accuracy: 0.9183 - val_loss: 1.1421 - val_accuracy: 0.9494\n",
            "Epoch 3/5\n",
            "132/132 [==============================] - 6s 48ms/step - loss: 0.8305 - accuracy: 0.9626 - val_loss: 0.9968 - val_accuracy: 0.9250\n",
            "Epoch 4/5\n",
            "132/132 [==============================] - 5s 39ms/step - loss: 0.4205 - accuracy: 0.9731 - val_loss: 0.1754 - val_accuracy: 0.9928\n",
            "Epoch 5/5\n",
            "132/132 [==============================] - 6s 43ms/step - loss: 0.0701 - accuracy: 0.9962 - val_loss: 0.0118 - val_accuracy: 0.9978\n"
          ]
        }
      ]
    },
    {
      "cell_type": "markdown",
      "source": [
        "the model has achieved validation accuracy of over 99%"
      ],
      "metadata": {
        "id": "QcGaxx2sJigY"
      }
    },
    {
      "cell_type": "markdown",
      "source": [
        "##Noisy images"
      ],
      "metadata": {
        "id": "NM-vUNqlKYQr"
      }
    },
    {
      "cell_type": "markdown",
      "source": [
        "Create directory"
      ],
      "metadata": {
        "id": "dVTew1m2KeTl"
      }
    },
    {
      "cell_type": "code",
      "source": [
        "dataset_folder_name = 'dataset'\n",
        "noisy_dataset_folder_name = 'noisy_dataset'\n",
        "noisy_green_image_folder_name = 'noisy_green'\n",
        "noisy_red_image_folder_name = 'noisy_red'\n",
        "noisy_blue_image_folder_name = 'noisy_blue'\n",
        "noisy_purple_image_folder_name = 'noisy_purple'\n",
        "noisy_white_image_folder_name = 'noisy_white'\n",
        "noisy_black_image_folder_name = 'noisy_black'\n",
        "noisy_yellow_image_folder_name = 'noisy_yellow'\n",
        "noisy_green_folder_path = os.path.join(noisy_dataset_folder_name , noisy_green_image_folder_name)\n",
        "noisy_red_folder_path = os.path.join(noisy_dataset_folder_name , noisy_red_image_folder_name)\n",
        "noisy_blue_folder_path = os.path.join(noisy_dataset_folder_name , noisy_blue_image_folder_name)\n",
        "noisy_purple_folder_path = os.path.join(noisy_dataset_folder_name , noisy_purple_image_folder_name)\n",
        "noisy_white_folder_path = os.path.join(noisy_dataset_folder_name , noisy_white_image_folder_name)\n",
        "noisy_black_folder_path = os.path.join(noisy_dataset_folder_name , noisy_black_image_folder_name)\n",
        "noisy_yellow_folder_path = os.path.join(noisy_dataset_folder_name , noisy_yellow_image_folder_name)\n",
        "os.makedirs(noisy_green_folder_path)\n",
        "os.makedirs(noisy_red_folder_path)\n",
        "os.makedirs(noisy_blue_folder_path)\n",
        "os.makedirs(noisy_purple_folder_path)\n",
        "os.makedirs(noisy_white_folder_path)\n",
        "os.makedirs(noisy_black_folder_path)\n",
        "os.makedirs(noisy_yellow_folder_path)"
      ],
      "metadata": {
        "id": "qzxPvn9dJiMA"
      },
      "execution_count": 20,
      "outputs": []
    },
    {
      "cell_type": "markdown",
      "source": [
        "Noisy green images"
      ],
      "metadata": {
        "id": "W8Zzr_AGKkxV"
      }
    },
    {
      "cell_type": "code",
      "source": [
        "folder_path = \"/content/dataset/green\"\n",
        "for filename in os.listdir(folder_path):\n",
        "  if filename.endswith('.png'):\n",
        "    img = cv2.imread(os.path.join(folder_path,filename))\n",
        "    noise = np.random.normal(0,70,(180,180,3))\n",
        "    noisy_image = img + noise\n",
        "    path = '/content/noisy_dataset/noisy_green/'\n",
        "    cv2.imwrite(os.path.join(path , 'noisy_' + filename), noisy_image)"
      ],
      "metadata": {
        "id": "wZa1n5lyKN2d"
      },
      "execution_count": 21,
      "outputs": []
    },
    {
      "cell_type": "markdown",
      "source": [
        "Noisy red images"
      ],
      "metadata": {
        "id": "NcYZA2saKsTc"
      }
    },
    {
      "cell_type": "code",
      "source": [
        "folder_path = \"/content/dataset/red\"\n",
        "for filename in os.listdir(folder_path):\n",
        "  if filename.endswith('.png'):\n",
        "    img = cv2.imread(os.path.join(folder_path,filename))\n",
        "    noise = np.random.normal(0,70,(180,180,3))\n",
        "    noisy_image = img + noise\n",
        "    path = '/content/noisy_dataset/noisy_red/'\n",
        "    cv2.imwrite(os.path.join(path , 'noisy_' + filename), noisy_image)"
      ],
      "metadata": {
        "id": "UmhGAmThKvmJ"
      },
      "execution_count": 22,
      "outputs": []
    },
    {
      "cell_type": "markdown",
      "source": [
        "Noisy blue images"
      ],
      "metadata": {
        "id": "0kSRTulnKykn"
      }
    },
    {
      "cell_type": "code",
      "source": [
        "folder_path = \"/content/dataset/blue\"\n",
        "for filename in os.listdir(folder_path):\n",
        "  if filename.endswith('.png'):\n",
        "    img = cv2.imread(os.path.join(folder_path,filename))\n",
        "    noise = np.random.normal(0,70,(180,180,3))\n",
        "    noisy_image = img + noise\n",
        "    path = '/content/noisy_dataset/noisy_blue/'\n",
        "    cv2.imwrite(os.path.join(path , 'noisy_' + filename), noisy_image)"
      ],
      "metadata": {
        "id": "u5iBf9dYKyH7"
      },
      "execution_count": 23,
      "outputs": []
    },
    {
      "cell_type": "markdown",
      "source": [
        "Noisy purple images"
      ],
      "metadata": {
        "id": "vlFZQmhYLDaH"
      }
    },
    {
      "cell_type": "code",
      "source": [
        "folder_path = \"/content/dataset/purple\"\n",
        "for filename in os.listdir(folder_path):\n",
        "  if filename.endswith('.png'):\n",
        "    img = cv2.imread(os.path.join(folder_path,filename))\n",
        "    noise = np.random.normal(0,70,(180,180,3))\n",
        "    noisy_image = img + noise\n",
        "    path = '/content/noisy_dataset/noisy_purple/'\n",
        "    cv2.imwrite(os.path.join(path , 'noisy_' + filename), noisy_image)"
      ],
      "metadata": {
        "id": "Zl-d3PdPLGaR"
      },
      "execution_count": 24,
      "outputs": []
    },
    {
      "cell_type": "markdown",
      "source": [
        "Noisy yellow images"
      ],
      "metadata": {
        "id": "cTmu80R8LOD1"
      }
    },
    {
      "cell_type": "code",
      "source": [
        "folder_path = \"/content/dataset/yellow\"\n",
        "for filename in os.listdir(folder_path):\n",
        "  if filename.endswith('.png'):\n",
        "    img = cv2.imread(os.path.join(folder_path,filename))\n",
        "    noise = np.random.normal(0,70,(180,180,3))\n",
        "    noisy_image = img + noise\n",
        "    path = '/content/noisy_dataset/noisy_yellow/'\n",
        "    cv2.imwrite(os.path.join(path , 'noisy_' + filename), noisy_image)"
      ],
      "metadata": {
        "id": "aY5xhn8yLQA1"
      },
      "execution_count": 25,
      "outputs": []
    },
    {
      "cell_type": "markdown",
      "source": [
        "Noisy white images"
      ],
      "metadata": {
        "id": "K9uC67gkLUT5"
      }
    },
    {
      "cell_type": "code",
      "source": [
        "folder_path = \"/content/dataset/white\"\n",
        "for filename in os.listdir(folder_path):\n",
        "  if filename.endswith('.png'):\n",
        "    img = cv2.imread(os.path.join(folder_path,filename))\n",
        "    noise = np.random.normal(0,70,(180,180,3))\n",
        "    noisy_image = img + noise\n",
        "    path = '/content/noisy_dataset/noisy_white/'\n",
        "    cv2.imwrite(os.path.join(path , 'noisy_' + filename), noisy_image)"
      ],
      "metadata": {
        "id": "_1Zfi8dkLdQA"
      },
      "execution_count": 26,
      "outputs": []
    },
    {
      "cell_type": "markdown",
      "source": [
        "Noisy black images"
      ],
      "metadata": {
        "id": "dBuH6lMZLd-b"
      }
    },
    {
      "cell_type": "code",
      "source": [
        "folder_path = \"/content/dataset/black\"\n",
        "for filename in os.listdir(folder_path):\n",
        "  if filename.endswith('.png'):\n",
        "    img = cv2.imread(os.path.join(folder_path,filename))\n",
        "    noise = np.random.normal(0,70,(180,180,3))\n",
        "    noisy_image = img + noise\n",
        "    path = '/content/noisy_dataset/noisy_black/'\n",
        "    cv2.imwrite(os.path.join(path , 'noisy_' + filename), noisy_image)"
      ],
      "metadata": {
        "id": "Q4bzZQRTLid-"
      },
      "execution_count": 27,
      "outputs": []
    },
    {
      "cell_type": "markdown",
      "source": [
        "Create a dataset"
      ],
      "metadata": {
        "id": "pWwAVuXnMGAF"
      }
    },
    {
      "cell_type": "code",
      "source": [
        "directory = 'noisy_dataset'\n",
        "\n",
        "train_ds , val_ds = tf.keras.utils.image_dataset_from_directory(\n",
        "    directory,\n",
        "    color_mode='rgb',\n",
        "    batch_size=32,\n",
        "    image_size=(180, 180),\n",
        "    validation_split=0.2,\n",
        "    seed = 123,\n",
        "    subset=\"both\"\n",
        ")"
      ],
      "metadata": {
        "colab": {
          "base_uri": "https://localhost:8080/"
        },
        "id": "EuQD8jsxLlq5",
        "outputId": "d36da826-afd7-4d2f-85f2-ea86325a8f75"
      },
      "execution_count": 28,
      "outputs": [
        {
          "output_type": "stream",
          "name": "stdout",
          "text": [
            "Found 6000 files belonging to 7 classes.\n",
            "Using 4800 files for training.\n",
            "Using 1200 files for validation.\n"
          ]
        }
      ]
    },
    {
      "cell_type": "markdown",
      "source": [
        "Create the model"
      ],
      "metadata": {
        "id": "iEpA0tJGLvmM"
      }
    },
    {
      "cell_type": "code",
      "source": [
        "model = models.Sequential()\n",
        "model.add(layers.Conv2D(32 , (3, 3), padding='same', activation='relu', input_shape=(180, 180, 3)))\n",
        "model.add(layers.MaxPooling2D((2, 2)))\n",
        "model.add(layers.Conv2D(32, (3, 3), padding= 'same',activation='relu'))\n",
        "model.add(layers.MaxPooling2D((2, 2)))\n",
        "model.add(layers.Conv2D(64, (3, 3), padding='same' , activation='relu'))\n",
        "model.add(layers.MaxPooling2D((2, 2)))\n",
        "model.add(layers.Flatten())\n",
        "model.add(layers.Dense(32, activation='relu'))\n",
        "model.add(layers.Dense(7))"
      ],
      "metadata": {
        "id": "iuYQ6yP6Lq7z"
      },
      "execution_count": 29,
      "outputs": []
    },
    {
      "cell_type": "code",
      "source": [
        "model.compile(\n",
        "  optimizer='adam',\n",
        "  loss=tf.keras.losses.SparseCategoricalCrossentropy(from_logits=True),\n",
        "  metrics=['accuracy'])"
      ],
      "metadata": {
        "id": "BWlnLO7OL0bK"
      },
      "execution_count": 30,
      "outputs": []
    },
    {
      "cell_type": "code",
      "source": [
        "epochs=5\n",
        "history = model.fit(\n",
        "  train_ds,\n",
        "  validation_data=val_ds,\n",
        "  epochs=epochs\n",
        ")"
      ],
      "metadata": {
        "colab": {
          "base_uri": "https://localhost:8080/"
        },
        "id": "b6H4kms9L2j3",
        "outputId": "36cd7040-bdbb-479f-9fc6-6fbeff75379f"
      },
      "execution_count": 31,
      "outputs": [
        {
          "output_type": "stream",
          "name": "stdout",
          "text": [
            "Epoch 1/5\n",
            "150/150 [==============================] - 13s 68ms/step - loss: 5.9244 - accuracy: 0.7633 - val_loss: 0.6285 - val_accuracy: 0.8408\n",
            "Epoch 2/5\n",
            "150/150 [==============================] - 10s 67ms/step - loss: 0.6087 - accuracy: 0.8315 - val_loss: 0.5945 - val_accuracy: 0.8408\n",
            "Epoch 3/5\n",
            "150/150 [==============================] - 9s 60ms/step - loss: 0.5759 - accuracy: 0.8315 - val_loss: 0.5763 - val_accuracy: 0.8383\n",
            "Epoch 4/5\n",
            "150/150 [==============================] - 11s 67ms/step - loss: 0.5548 - accuracy: 0.8304 - val_loss: 0.5343 - val_accuracy: 0.8408\n",
            "Epoch 5/5\n",
            "150/150 [==============================] - 10s 68ms/step - loss: 0.3849 - accuracy: 0.8171 - val_loss: 0.2551 - val_accuracy: 0.8408\n"
          ]
        }
      ]
    },
    {
      "cell_type": "markdown",
      "source": [
        "the model whit noisy data has achieved validation accuracy of over 84%"
      ],
      "metadata": {
        "id": "ac5ktv2CM8Cj"
      }
    }
  ]
}